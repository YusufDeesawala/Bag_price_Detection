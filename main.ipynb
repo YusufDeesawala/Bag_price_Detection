{
 "cells": [
  {
   "cell_type": "code",
   "execution_count": 93,
   "metadata": {},
   "outputs": [],
   "source": [
    "import pandas as pd\n",
    "import numpy as np\n",
    "import matplotlib.pyplot as plt\n",
    "import seaborn as sns"
   ]
  },
  {
   "cell_type": "code",
   "execution_count": 94,
   "metadata": {},
   "outputs": [],
   "source": [
    "train_df = pd.read_csv('train.csv')\n",
    "train_df_extra = pd.read_csv('training_extra.csv')\n",
    "test_df = pd.read_csv('test.csv')\n",
    "test_df['Price'] = 100"
   ]
  },
  {
   "cell_type": "code",
   "execution_count": 95,
   "metadata": {},
   "outputs": [],
   "source": [
    "train_len = len(train_df)\n",
    "train_extra_len = len(train_df_extra)\n",
    "test_len = len(test_df)\n",
    "final_df_len = train_len + train_extra_len"
   ]
  },
  {
   "cell_type": "markdown",
   "metadata": {},
   "source": [
    "Merge all files to apply the preprocessing steps"
   ]
  },
  {
   "cell_type": "code",
   "execution_count": 96,
   "metadata": {},
   "outputs": [],
   "source": [
    "df_merged = pd.concat([train_df, train_df_extra, test_df], axis=0, ignore_index=True)"
   ]
  },
  {
   "cell_type": "code",
   "execution_count": 97,
   "metadata": {},
   "outputs": [
    {
     "data": {
      "text/plain": [
       "(4194318, 11)"
      ]
     },
     "execution_count": 97,
     "metadata": {},
     "output_type": "execute_result"
    }
   ],
   "source": [
    "df_merged.shape"
   ]
  },
  {
   "cell_type": "code",
   "execution_count": 98,
   "metadata": {},
   "outputs": [
    {
     "data": {
      "text/html": [
       "<div>\n",
       "<style scoped>\n",
       "    .dataframe tbody tr th:only-of-type {\n",
       "        vertical-align: middle;\n",
       "    }\n",
       "\n",
       "    .dataframe tbody tr th {\n",
       "        vertical-align: top;\n",
       "    }\n",
       "\n",
       "    .dataframe thead th {\n",
       "        text-align: right;\n",
       "    }\n",
       "</style>\n",
       "<table border=\"1\" class=\"dataframe\">\n",
       "  <thead>\n",
       "    <tr style=\"text-align: right;\">\n",
       "      <th></th>\n",
       "      <th>id</th>\n",
       "      <th>Brand</th>\n",
       "      <th>Material</th>\n",
       "      <th>Size</th>\n",
       "      <th>Compartments</th>\n",
       "      <th>Laptop Compartment</th>\n",
       "      <th>Waterproof</th>\n",
       "      <th>Style</th>\n",
       "      <th>Color</th>\n",
       "      <th>Weight Capacity (kg)</th>\n",
       "      <th>Price</th>\n",
       "    </tr>\n",
       "  </thead>\n",
       "  <tbody>\n",
       "    <tr>\n",
       "      <th>0</th>\n",
       "      <td>0</td>\n",
       "      <td>Jansport</td>\n",
       "      <td>Leather</td>\n",
       "      <td>Medium</td>\n",
       "      <td>7.0</td>\n",
       "      <td>Yes</td>\n",
       "      <td>No</td>\n",
       "      <td>Tote</td>\n",
       "      <td>Black</td>\n",
       "      <td>11.611723</td>\n",
       "      <td>112.15875</td>\n",
       "    </tr>\n",
       "    <tr>\n",
       "      <th>1</th>\n",
       "      <td>1</td>\n",
       "      <td>Jansport</td>\n",
       "      <td>Canvas</td>\n",
       "      <td>Small</td>\n",
       "      <td>10.0</td>\n",
       "      <td>Yes</td>\n",
       "      <td>Yes</td>\n",
       "      <td>Messenger</td>\n",
       "      <td>Green</td>\n",
       "      <td>27.078537</td>\n",
       "      <td>68.88056</td>\n",
       "    </tr>\n",
       "    <tr>\n",
       "      <th>2</th>\n",
       "      <td>2</td>\n",
       "      <td>Under Armour</td>\n",
       "      <td>Leather</td>\n",
       "      <td>Small</td>\n",
       "      <td>2.0</td>\n",
       "      <td>Yes</td>\n",
       "      <td>No</td>\n",
       "      <td>Messenger</td>\n",
       "      <td>Red</td>\n",
       "      <td>16.643760</td>\n",
       "      <td>39.17320</td>\n",
       "    </tr>\n",
       "    <tr>\n",
       "      <th>3</th>\n",
       "      <td>3</td>\n",
       "      <td>Nike</td>\n",
       "      <td>Nylon</td>\n",
       "      <td>Small</td>\n",
       "      <td>8.0</td>\n",
       "      <td>Yes</td>\n",
       "      <td>No</td>\n",
       "      <td>Messenger</td>\n",
       "      <td>Green</td>\n",
       "      <td>12.937220</td>\n",
       "      <td>80.60793</td>\n",
       "    </tr>\n",
       "    <tr>\n",
       "      <th>4</th>\n",
       "      <td>4</td>\n",
       "      <td>Adidas</td>\n",
       "      <td>Canvas</td>\n",
       "      <td>Medium</td>\n",
       "      <td>1.0</td>\n",
       "      <td>Yes</td>\n",
       "      <td>Yes</td>\n",
       "      <td>Messenger</td>\n",
       "      <td>Green</td>\n",
       "      <td>17.749338</td>\n",
       "      <td>86.02312</td>\n",
       "    </tr>\n",
       "  </tbody>\n",
       "</table>\n",
       "</div>"
      ],
      "text/plain": [
       "   id         Brand Material    Size  Compartments Laptop Compartment  \\\n",
       "0   0      Jansport  Leather  Medium           7.0                Yes   \n",
       "1   1      Jansport   Canvas   Small          10.0                Yes   \n",
       "2   2  Under Armour  Leather   Small           2.0                Yes   \n",
       "3   3          Nike    Nylon   Small           8.0                Yes   \n",
       "4   4        Adidas   Canvas  Medium           1.0                Yes   \n",
       "\n",
       "  Waterproof      Style  Color  Weight Capacity (kg)      Price  \n",
       "0         No       Tote  Black             11.611723  112.15875  \n",
       "1        Yes  Messenger  Green             27.078537   68.88056  \n",
       "2         No  Messenger    Red             16.643760   39.17320  \n",
       "3         No  Messenger  Green             12.937220   80.60793  \n",
       "4        Yes  Messenger  Green             17.749338   86.02312  "
      ]
     },
     "execution_count": 98,
     "metadata": {},
     "output_type": "execute_result"
    }
   ],
   "source": [
    "df_merged.head()"
   ]
  },
  {
   "cell_type": "code",
   "execution_count": 99,
   "metadata": {},
   "outputs": [
    {
     "data": {
      "text/plain": [
       "id                           0\n",
       "Brand                   132985\n",
       "Material                116575\n",
       "Size                     92166\n",
       "Compartments                 0\n",
       "Laptop Compartment      103495\n",
       "Waterproof               99135\n",
       "Style                   109333\n",
       "Color                   140402\n",
       "Weight Capacity (kg)      1885\n",
       "Price                        0\n",
       "dtype: int64"
      ]
     },
     "execution_count": 99,
     "metadata": {},
     "output_type": "execute_result"
    }
   ],
   "source": [
    "df_merged.isnull().sum()"
   ]
  },
  {
   "cell_type": "markdown",
   "metadata": {},
   "source": [
    "Value counts for all categorical cols"
   ]
  },
  {
   "cell_type": "code",
   "execution_count": 100,
   "metadata": {},
   "outputs": [
    {
     "name": "stdout",
     "output_type": "stream",
     "text": [
      "Brand\n",
      "Under Armour    841174\n",
      "Adidas          837173\n",
      "Nike            802680\n",
      "Puma            793635\n",
      "Jansport        786671\n",
      "Name: count, dtype: int64\n",
      "Material\n",
      "Polyester    1113909\n",
      "Leather      1025175\n",
      "Nylon         990149\n",
      "Canvas        948510\n",
      "Name: count, dtype: int64\n",
      "Size\n",
      "Medium    1422262\n",
      "Large     1377979\n",
      "Small     1301911\n",
      "Name: count, dtype: int64\n",
      "Color\n",
      "Pink     723018\n",
      "Gray     699344\n",
      "Blue     670497\n",
      "Red      661616\n",
      "Black    651603\n",
      "Green    647838\n",
      "Name: count, dtype: int64\n"
     ]
    }
   ],
   "source": [
    "categ_cols = ['Brand', 'Material', 'Size','Color']\n",
    "\n",
    "for i in range(len(categ_cols)):\n",
    "    print(df_merged[categ_cols[i]].value_counts())"
   ]
  },
  {
   "cell_type": "code",
   "execution_count": 101,
   "metadata": {},
   "outputs": [
    {
     "data": {
      "text/plain": [
       "2011562"
      ]
     },
     "execution_count": 101,
     "metadata": {},
     "output_type": "execute_result"
    }
   ],
   "source": [
    "df_merged['Weight Capacity (kg)'].nunique()\n"
   ]
  },
  {
   "cell_type": "markdown",
   "metadata": {},
   "source": [
    "Filling up all NaN vals "
   ]
  },
  {
   "cell_type": "code",
   "execution_count": 102,
   "metadata": {},
   "outputs": [],
   "source": [
    "from sklearn.impute import SimpleImputer\n",
    "\n",
    "imputer = SimpleImputer(strategy = 'most_frequent')\n",
    "\n",
    "imputer_cols = ['Brand', 'Material', 'Size', 'Laptop Compartment', 'Waterproof', 'Style', 'Color']\n",
    "\n",
    "df_merged[imputer_cols] = imputer.fit_transform(df_merged[imputer_cols])"
   ]
  },
  {
   "cell_type": "code",
   "execution_count": 103,
   "metadata": {},
   "outputs": [],
   "source": [
    "imputer_num = SimpleImputer(strategy = 'median')\n",
    "\n",
    "imputer_num_cols = ['Weight Capacity (kg)']\n",
    "\n",
    "df_merged[imputer_num_cols] = imputer_num.fit_transform(df_merged[imputer_num_cols])"
   ]
  },
  {
   "cell_type": "code",
   "execution_count": 104,
   "metadata": {},
   "outputs": [
    {
     "name": "stderr",
     "output_type": "stream",
     "text": [
      "/tmp/ipykernel_10670/1473090586.py:3: FutureWarning: Downcasting behavior in `replace` is deprecated and will be removed in a future version. To retain the old behavior, explicitly call `result.infer_objects(copy=False)`. To opt-in to the future behavior, set `pd.set_option('future.no_silent_downcasting', True)`\n",
      "  df_merged[yes_no_cols] = df_merged[yes_no_cols].replace({'Yes': 1, 'No': 0})\n"
     ]
    }
   ],
   "source": [
    "yes_no_cols = ['Laptop Compartment', 'Waterproof']\n",
    "\n",
    "df_merged[yes_no_cols] = df_merged[yes_no_cols].replace({'Yes': 1, 'No': 0})"
   ]
  },
  {
   "cell_type": "code",
   "execution_count": 105,
   "metadata": {},
   "outputs": [
    {
     "data": {
      "text/html": [
       "<div>\n",
       "<style scoped>\n",
       "    .dataframe tbody tr th:only-of-type {\n",
       "        vertical-align: middle;\n",
       "    }\n",
       "\n",
       "    .dataframe tbody tr th {\n",
       "        vertical-align: top;\n",
       "    }\n",
       "\n",
       "    .dataframe thead th {\n",
       "        text-align: right;\n",
       "    }\n",
       "</style>\n",
       "<table border=\"1\" class=\"dataframe\">\n",
       "  <thead>\n",
       "    <tr style=\"text-align: right;\">\n",
       "      <th></th>\n",
       "      <th>id</th>\n",
       "      <th>Brand</th>\n",
       "      <th>Material</th>\n",
       "      <th>Size</th>\n",
       "      <th>Compartments</th>\n",
       "      <th>Laptop Compartment</th>\n",
       "      <th>Waterproof</th>\n",
       "      <th>Style</th>\n",
       "      <th>Color</th>\n",
       "      <th>Weight Capacity (kg)</th>\n",
       "      <th>Price</th>\n",
       "    </tr>\n",
       "  </thead>\n",
       "  <tbody>\n",
       "    <tr>\n",
       "      <th>0</th>\n",
       "      <td>0</td>\n",
       "      <td>Jansport</td>\n",
       "      <td>Leather</td>\n",
       "      <td>Medium</td>\n",
       "      <td>7.0</td>\n",
       "      <td>1</td>\n",
       "      <td>0</td>\n",
       "      <td>Tote</td>\n",
       "      <td>Black</td>\n",
       "      <td>11.611723</td>\n",
       "      <td>112.15875</td>\n",
       "    </tr>\n",
       "    <tr>\n",
       "      <th>1</th>\n",
       "      <td>1</td>\n",
       "      <td>Jansport</td>\n",
       "      <td>Canvas</td>\n",
       "      <td>Small</td>\n",
       "      <td>10.0</td>\n",
       "      <td>1</td>\n",
       "      <td>1</td>\n",
       "      <td>Messenger</td>\n",
       "      <td>Green</td>\n",
       "      <td>27.078537</td>\n",
       "      <td>68.88056</td>\n",
       "    </tr>\n",
       "    <tr>\n",
       "      <th>2</th>\n",
       "      <td>2</td>\n",
       "      <td>Under Armour</td>\n",
       "      <td>Leather</td>\n",
       "      <td>Small</td>\n",
       "      <td>2.0</td>\n",
       "      <td>1</td>\n",
       "      <td>0</td>\n",
       "      <td>Messenger</td>\n",
       "      <td>Red</td>\n",
       "      <td>16.643760</td>\n",
       "      <td>39.17320</td>\n",
       "    </tr>\n",
       "    <tr>\n",
       "      <th>3</th>\n",
       "      <td>3</td>\n",
       "      <td>Nike</td>\n",
       "      <td>Nylon</td>\n",
       "      <td>Small</td>\n",
       "      <td>8.0</td>\n",
       "      <td>1</td>\n",
       "      <td>0</td>\n",
       "      <td>Messenger</td>\n",
       "      <td>Green</td>\n",
       "      <td>12.937220</td>\n",
       "      <td>80.60793</td>\n",
       "    </tr>\n",
       "    <tr>\n",
       "      <th>4</th>\n",
       "      <td>4</td>\n",
       "      <td>Adidas</td>\n",
       "      <td>Canvas</td>\n",
       "      <td>Medium</td>\n",
       "      <td>1.0</td>\n",
       "      <td>1</td>\n",
       "      <td>1</td>\n",
       "      <td>Messenger</td>\n",
       "      <td>Green</td>\n",
       "      <td>17.749338</td>\n",
       "      <td>86.02312</td>\n",
       "    </tr>\n",
       "  </tbody>\n",
       "</table>\n",
       "</div>"
      ],
      "text/plain": [
       "   id         Brand Material    Size  Compartments  Laptop Compartment  \\\n",
       "0   0      Jansport  Leather  Medium           7.0                   1   \n",
       "1   1      Jansport   Canvas   Small          10.0                   1   \n",
       "2   2  Under Armour  Leather   Small           2.0                   1   \n",
       "3   3          Nike    Nylon   Small           8.0                   1   \n",
       "4   4        Adidas   Canvas  Medium           1.0                   1   \n",
       "\n",
       "   Waterproof      Style  Color  Weight Capacity (kg)      Price  \n",
       "0           0       Tote  Black             11.611723  112.15875  \n",
       "1           1  Messenger  Green             27.078537   68.88056  \n",
       "2           0  Messenger    Red             16.643760   39.17320  \n",
       "3           0  Messenger  Green             12.937220   80.60793  \n",
       "4           1  Messenger  Green             17.749338   86.02312  "
      ]
     },
     "execution_count": 105,
     "metadata": {},
     "output_type": "execute_result"
    }
   ],
   "source": [
    "df_merged.head()"
   ]
  },
  {
   "cell_type": "markdown",
   "metadata": {},
   "source": [
    "One Hot Encoding all categorical cols"
   ]
  },
  {
   "cell_type": "code",
   "execution_count": 106,
   "metadata": {},
   "outputs": [
    {
     "data": {
      "text/html": [
       "<div>\n",
       "<style scoped>\n",
       "    .dataframe tbody tr th:only-of-type {\n",
       "        vertical-align: middle;\n",
       "    }\n",
       "\n",
       "    .dataframe tbody tr th {\n",
       "        vertical-align: top;\n",
       "    }\n",
       "\n",
       "    .dataframe thead th {\n",
       "        text-align: right;\n",
       "    }\n",
       "</style>\n",
       "<table border=\"1\" class=\"dataframe\">\n",
       "  <thead>\n",
       "    <tr style=\"text-align: right;\">\n",
       "      <th></th>\n",
       "      <th>id</th>\n",
       "      <th>Compartments</th>\n",
       "      <th>Laptop Compartment</th>\n",
       "      <th>Waterproof</th>\n",
       "      <th>Weight Capacity (kg)</th>\n",
       "      <th>Price</th>\n",
       "      <th>Brand_Adidas</th>\n",
       "      <th>Brand_Jansport</th>\n",
       "      <th>Brand_Nike</th>\n",
       "      <th>Brand_Puma</th>\n",
       "      <th>...</th>\n",
       "      <th>Size_Small</th>\n",
       "      <th>Style_Backpack</th>\n",
       "      <th>Style_Messenger</th>\n",
       "      <th>Style_Tote</th>\n",
       "      <th>Color_Black</th>\n",
       "      <th>Color_Blue</th>\n",
       "      <th>Color_Gray</th>\n",
       "      <th>Color_Green</th>\n",
       "      <th>Color_Pink</th>\n",
       "      <th>Color_Red</th>\n",
       "    </tr>\n",
       "  </thead>\n",
       "  <tbody>\n",
       "    <tr>\n",
       "      <th>0</th>\n",
       "      <td>0</td>\n",
       "      <td>7.0</td>\n",
       "      <td>1</td>\n",
       "      <td>0</td>\n",
       "      <td>11.611723</td>\n",
       "      <td>112.15875</td>\n",
       "      <td>0.0</td>\n",
       "      <td>1.0</td>\n",
       "      <td>0.0</td>\n",
       "      <td>0.0</td>\n",
       "      <td>...</td>\n",
       "      <td>0.0</td>\n",
       "      <td>0.0</td>\n",
       "      <td>0.0</td>\n",
       "      <td>1.0</td>\n",
       "      <td>1.0</td>\n",
       "      <td>0.0</td>\n",
       "      <td>0.0</td>\n",
       "      <td>0.0</td>\n",
       "      <td>0.0</td>\n",
       "      <td>0.0</td>\n",
       "    </tr>\n",
       "    <tr>\n",
       "      <th>1</th>\n",
       "      <td>1</td>\n",
       "      <td>10.0</td>\n",
       "      <td>1</td>\n",
       "      <td>1</td>\n",
       "      <td>27.078537</td>\n",
       "      <td>68.88056</td>\n",
       "      <td>0.0</td>\n",
       "      <td>1.0</td>\n",
       "      <td>0.0</td>\n",
       "      <td>0.0</td>\n",
       "      <td>...</td>\n",
       "      <td>1.0</td>\n",
       "      <td>0.0</td>\n",
       "      <td>1.0</td>\n",
       "      <td>0.0</td>\n",
       "      <td>0.0</td>\n",
       "      <td>0.0</td>\n",
       "      <td>0.0</td>\n",
       "      <td>1.0</td>\n",
       "      <td>0.0</td>\n",
       "      <td>0.0</td>\n",
       "    </tr>\n",
       "    <tr>\n",
       "      <th>2</th>\n",
       "      <td>2</td>\n",
       "      <td>2.0</td>\n",
       "      <td>1</td>\n",
       "      <td>0</td>\n",
       "      <td>16.643760</td>\n",
       "      <td>39.17320</td>\n",
       "      <td>0.0</td>\n",
       "      <td>0.0</td>\n",
       "      <td>0.0</td>\n",
       "      <td>0.0</td>\n",
       "      <td>...</td>\n",
       "      <td>1.0</td>\n",
       "      <td>0.0</td>\n",
       "      <td>1.0</td>\n",
       "      <td>0.0</td>\n",
       "      <td>0.0</td>\n",
       "      <td>0.0</td>\n",
       "      <td>0.0</td>\n",
       "      <td>0.0</td>\n",
       "      <td>0.0</td>\n",
       "      <td>1.0</td>\n",
       "    </tr>\n",
       "    <tr>\n",
       "      <th>3</th>\n",
       "      <td>3</td>\n",
       "      <td>8.0</td>\n",
       "      <td>1</td>\n",
       "      <td>0</td>\n",
       "      <td>12.937220</td>\n",
       "      <td>80.60793</td>\n",
       "      <td>0.0</td>\n",
       "      <td>0.0</td>\n",
       "      <td>1.0</td>\n",
       "      <td>0.0</td>\n",
       "      <td>...</td>\n",
       "      <td>1.0</td>\n",
       "      <td>0.0</td>\n",
       "      <td>1.0</td>\n",
       "      <td>0.0</td>\n",
       "      <td>0.0</td>\n",
       "      <td>0.0</td>\n",
       "      <td>0.0</td>\n",
       "      <td>1.0</td>\n",
       "      <td>0.0</td>\n",
       "      <td>0.0</td>\n",
       "    </tr>\n",
       "    <tr>\n",
       "      <th>4</th>\n",
       "      <td>4</td>\n",
       "      <td>1.0</td>\n",
       "      <td>1</td>\n",
       "      <td>1</td>\n",
       "      <td>17.749338</td>\n",
       "      <td>86.02312</td>\n",
       "      <td>1.0</td>\n",
       "      <td>0.0</td>\n",
       "      <td>0.0</td>\n",
       "      <td>0.0</td>\n",
       "      <td>...</td>\n",
       "      <td>0.0</td>\n",
       "      <td>0.0</td>\n",
       "      <td>1.0</td>\n",
       "      <td>0.0</td>\n",
       "      <td>0.0</td>\n",
       "      <td>0.0</td>\n",
       "      <td>0.0</td>\n",
       "      <td>1.0</td>\n",
       "      <td>0.0</td>\n",
       "      <td>0.0</td>\n",
       "    </tr>\n",
       "  </tbody>\n",
       "</table>\n",
       "<p>5 rows × 27 columns</p>\n",
       "</div>"
      ],
      "text/plain": [
       "   id  Compartments  Laptop Compartment  Waterproof  Weight Capacity (kg)  \\\n",
       "0   0           7.0                   1           0             11.611723   \n",
       "1   1          10.0                   1           1             27.078537   \n",
       "2   2           2.0                   1           0             16.643760   \n",
       "3   3           8.0                   1           0             12.937220   \n",
       "4   4           1.0                   1           1             17.749338   \n",
       "\n",
       "       Price  Brand_Adidas  Brand_Jansport  Brand_Nike  Brand_Puma  ...  \\\n",
       "0  112.15875           0.0             1.0         0.0         0.0  ...   \n",
       "1   68.88056           0.0             1.0         0.0         0.0  ...   \n",
       "2   39.17320           0.0             0.0         0.0         0.0  ...   \n",
       "3   80.60793           0.0             0.0         1.0         0.0  ...   \n",
       "4   86.02312           1.0             0.0         0.0         0.0  ...   \n",
       "\n",
       "   Size_Small  Style_Backpack  Style_Messenger  Style_Tote  Color_Black  \\\n",
       "0         0.0             0.0              0.0         1.0          1.0   \n",
       "1         1.0             0.0              1.0         0.0          0.0   \n",
       "2         1.0             0.0              1.0         0.0          0.0   \n",
       "3         1.0             0.0              1.0         0.0          0.0   \n",
       "4         0.0             0.0              1.0         0.0          0.0   \n",
       "\n",
       "   Color_Blue  Color_Gray  Color_Green  Color_Pink  Color_Red  \n",
       "0         0.0         0.0          0.0         0.0        0.0  \n",
       "1         0.0         0.0          1.0         0.0        0.0  \n",
       "2         0.0         0.0          0.0         0.0        1.0  \n",
       "3         0.0         0.0          1.0         0.0        0.0  \n",
       "4         0.0         0.0          1.0         0.0        0.0  \n",
       "\n",
       "[5 rows x 27 columns]"
      ]
     },
     "execution_count": 106,
     "metadata": {},
     "output_type": "execute_result"
    }
   ],
   "source": [
    "from sklearn.preprocessing import OneHotEncoder\n",
    "\n",
    "onehot_cols = ['Brand', 'Material', 'Size', 'Style', 'Color']\n",
    "\n",
    "onehot = OneHotEncoder()\n",
    "\n",
    "onehot_df = pd.DataFrame(onehot.fit_transform(df_merged[onehot_cols]).toarray())\n",
    "\n",
    "onehot_df.columns = onehot.get_feature_names_out(onehot_cols)\n",
    "\n",
    "df_merged = df_merged.drop(onehot_cols, axis=1)\n",
    "\n",
    "df_merged = pd.concat([df_merged, onehot_df], axis=1)\n",
    "\n",
    "df_merged.head()"
   ]
  },
  {
   "cell_type": "markdown",
   "metadata": {},
   "source": [
    "Split dataset into train and test (original)"
   ]
  },
  {
   "cell_type": "code",
   "execution_count": 107,
   "metadata": {},
   "outputs": [],
   "source": [
    "final_df = df_merged[:final_df_len]\n",
    "test_df = df_merged[final_df_len:]"
   ]
  },
  {
   "cell_type": "code",
   "execution_count": 108,
   "metadata": {},
   "outputs": [
    {
     "data": {
      "text/plain": [
       "\"corr = final_df.corr()\\nplt.figure(figsize=(50,50))\\nsns.heatmap(corr, annot=True)\\nplt.imsave('corr.png', corr)\""
      ]
     },
     "execution_count": 108,
     "metadata": {},
     "output_type": "execute_result"
    }
   ],
   "source": [
    "'''corr = final_df.corr()\n",
    "plt.figure(figsize=(50,50))\n",
    "sns.heatmap(corr, annot=True)\n",
    "plt.imsave('corr.png', corr)'''"
   ]
  },
  {
   "cell_type": "markdown",
   "metadata": {},
   "source": [
    "Check Skewness"
   ]
  },
  {
   "cell_type": "code",
   "execution_count": 109,
   "metadata": {},
   "outputs": [
    {
     "data": {
      "text/plain": [
       "'skewed_cols = final_df.skew().sort_values(ascending=False)\\nskewed_cols'"
      ]
     },
     "execution_count": 109,
     "metadata": {},
     "output_type": "execute_result"
    }
   ],
   "source": [
    "'''skewed_cols = final_df.skew().sort_values(ascending=False)\n",
    "skewed_cols'''"
   ]
  },
  {
   "cell_type": "code",
   "execution_count": 110,
   "metadata": {},
   "outputs": [],
   "source": [
    "test_df = test_df.drop('Price', axis=1)\n"
   ]
  },
  {
   "cell_type": "markdown",
   "metadata": {},
   "source": [
    "Split the data into train test split & \n",
    "Model training"
   ]
  },
  {
   "cell_type": "code",
   "execution_count": 111,
   "metadata": {},
   "outputs": [
    {
     "data": {
      "text/plain": [
       "\"model = XGBRegressor()\\n\\nmodel.fit(X_train, y_train)\\n\\ny_pred = model.predict(X_test)\\n\\nprint('RMSE:', np.sqrt(mean_squared_error(y_test, y_pred)))\""
      ]
     },
     "execution_count": 111,
     "metadata": {},
     "output_type": "execute_result"
    }
   ],
   "source": [
    "'''xgboost works but lightgbm is just slightly better than xgboost'''\n",
    "\n",
    "from sklearn.model_selection import train_test_split\n",
    "from sklearn.metrics import mean_squared_error\n",
    "from xgboost import XGBRegressor\n",
    "\n",
    "X = final_df.drop(columns = ['Price', 'id'], axis=1)\n",
    "y = final_df['Price']\n",
    "\n",
    "X_train, X_test, y_train, y_test = train_test_split(X, y, test_size=0.2, random_state=42)\n",
    "\n",
    "'''model = XGBRegressor()\n",
    "\n",
    "model.fit(X_train, y_train)\n",
    "\n",
    "y_pred = model.predict(X_test)\n",
    "\n",
    "print('RMSE:', np.sqrt(mean_squared_error(y_test, y_pred)))'''"
   ]
  },
  {
   "cell_type": "code",
   "execution_count": 112,
   "metadata": {},
   "outputs": [
    {
     "name": "stdout",
     "output_type": "stream",
     "text": [
      "[LightGBM] [Warning] Found whitespace in feature_names, replace with underlines\n",
      "[LightGBM] [Info] Auto-choosing row-wise multi-threading, the overhead of testing was 0.019546 seconds.\n",
      "You can set `force_row_wise=true` to remove the overhead.\n",
      "And if memory is not enough, you can set `force_col_wise=true`.\n",
      "[LightGBM] [Info] Total Bins 312\n",
      "[LightGBM] [Info] Number of data points in the train set: 3195454, number of used features: 25\n",
      "[LightGBM] [Info] Start training from score 81.361311\n",
      "RMSE: 38.8763339303312\n"
     ]
    }
   ],
   "source": [
    "from lightgbm import LGBMRegressor\n",
    "\n",
    "model2 = LGBMRegressor()\n",
    "\n",
    "model2.fit(X_train, y_train)\n",
    "\n",
    "y_pred2 = model2.predict(X_test)\n",
    "\n",
    "print('RMSE:', np.sqrt(mean_squared_error(y_test, y_pred2)))"
   ]
  },
  {
   "cell_type": "code",
   "execution_count": 113,
   "metadata": {},
   "outputs": [
    {
     "data": {
      "text/plain": [
       "\"from sklearn.ensemble import RandomForestRegressor\\n\\nmodel3 = RandomForestRegressor()\\n\\nmodel3.fit(X_train, y_train)\\n\\ny_pred3 = model3.predict(X_test)\\n\\nprint('RMSE:', np.sqrt(mean_squared_error(y_test, y_pred3)))\""
      ]
     },
     "execution_count": 113,
     "metadata": {},
     "output_type": "execute_result"
    }
   ],
   "source": [
    "'''Random forest doesnt usually perform well for me. I have included the code so anyone can try'''\n",
    "\n",
    "'''from sklearn.ensemble import RandomForestRegressor\n",
    "\n",
    "model3 = RandomForestRegressor()\n",
    "\n",
    "model3.fit(X_train, y_train)\n",
    "\n",
    "y_pred3 = model3.predict(X_test)\n",
    "\n",
    "print('RMSE:', np.sqrt(mean_squared_error(y_test, y_pred3)))'''"
   ]
  },
  {
   "cell_type": "code",
   "execution_count": 114,
   "metadata": {},
   "outputs": [
    {
     "data": {
      "text/plain": [
       "'import torch\\nimport torch.nn as nn\\nimport torch.optim as optim\\nfrom torch.utils.data import DataLoader, TensorDataset\\nimport numpy as np\\nfrom tqdm import tqdm  # Import tqdm for progress bar\\n\\n# Check for GPU\\ndevice = torch.device(\"cuda\" if torch.cuda.is_available() else \"cpu\")\\nprint(f\"Using device: {device}\")\\n\\n# Convert data to PyTorch tensors and move to device\\nX_train_tensor = torch.tensor(X_train.values, dtype=torch.float32).to(device)\\ny_train_tensor = torch.tensor(y_train.values, dtype=torch.float32).view(-1, 1).to(device)\\nX_test_tensor = torch.tensor(X_test.values, dtype=torch.float32).to(device)\\ny_test_tensor = torch.tensor(y_test.values, dtype=torch.float32).view(-1, 1).to(device)\\n\\n# Create DataLoader\\nbatch_size = 512\\ntrain_dataset = TensorDataset(X_train_tensor, y_train_tensor)\\ntrain_loader = DataLoader(train_dataset, batch_size=batch_size, shuffle=True)\\n\\n# Define the Neural Network\\nclass PricePredictionNN(nn.Module):\\n    def __init__(self, input_size):\\n        super(PricePredictionNN, self).__init__()\\n        self.fc1 = nn.Linear(input_size, 64)\\n        self.relu = nn.ReLU()\\n        self.fc2 = nn.Linear(64, 32)\\n        self.fc3 = nn.Linear(32, 1)\\n    \\n    def forward(self, x):\\n        x = self.relu(self.fc1(x))\\n        x = self.relu(self.fc2(x))\\n        x = self.fc3(x)\\n        return x\\n\\n# Initialize model and move to device\\ninput_size = X_train.shape[1]\\nmodel = PricePredictionNN(input_size).to(device)\\n\\n# Loss and optimizer\\ncriterion = nn.MSELoss()\\noptimizer = optim.Adam(model.parameters(), lr=0.001)\\n\\n# Training loop with progress bar\\nepochs = 50\\n\\nfor epoch in range(epochs):\\n    epoch_loss = 0\\n    progress_bar = tqdm(train_loader, desc=f\"Epoch {epoch+1}/{epochs}\", leave=False)\\n\\n    for batch_X, batch_y in progress_bar:\\n        batch_X, batch_y = batch_X.to(device), batch_y.to(device)  # Move batch to GPU\\n\\n        optimizer.zero_grad()\\n        outputs = model(batch_X)\\n        loss = criterion(outputs, batch_y)\\n        loss.backward()\\n        optimizer.step()\\n        \\n        epoch_loss += loss.item()\\n        progress_bar.set_postfix(loss=loss.item())\\n\\n    print(f\"Epoch [{epoch+1}/{epochs}] - Avg Loss: {epoch_loss/len(train_loader):.4f}\")\\n\\n# Evaluate on test set\\nmodel.eval()\\nwith torch.no_grad():\\n    y_pred = model(X_test_tensor)\\n    test_loss = criterion(y_pred, y_test_tensor)\\n    rmse = torch.sqrt(test_loss)\\n\\nprint(f\"\\nTest Loss (MSE): {test_loss.item():.4f}\")\\nprint(f\"Test RMSE: {rmse.item():.4f}\")'"
      ]
     },
     "execution_count": 114,
     "metadata": {},
     "output_type": "execute_result"
    }
   ],
   "source": [
    "'''NN is the last resort with proper optimizing it can produce the best results'''\n",
    "\n",
    "'''import torch\n",
    "import torch.nn as nn\n",
    "import torch.optim as optim\n",
    "from torch.utils.data import DataLoader, TensorDataset\n",
    "import numpy as np\n",
    "from tqdm import tqdm  # Import tqdm for progress bar\n",
    "\n",
    "# Check for GPU\n",
    "device = torch.device(\"cuda\" if torch.cuda.is_available() else \"cpu\")\n",
    "print(f\"Using device: {device}\")\n",
    "\n",
    "# Convert data to PyTorch tensors and move to device\n",
    "X_train_tensor = torch.tensor(X_train.values, dtype=torch.float32).to(device)\n",
    "y_train_tensor = torch.tensor(y_train.values, dtype=torch.float32).view(-1, 1).to(device)\n",
    "X_test_tensor = torch.tensor(X_test.values, dtype=torch.float32).to(device)\n",
    "y_test_tensor = torch.tensor(y_test.values, dtype=torch.float32).view(-1, 1).to(device)\n",
    "\n",
    "# Create DataLoader\n",
    "batch_size = 512\n",
    "train_dataset = TensorDataset(X_train_tensor, y_train_tensor)\n",
    "train_loader = DataLoader(train_dataset, batch_size=batch_size, shuffle=True)\n",
    "\n",
    "# Define the Neural Network\n",
    "class PricePredictionNN(nn.Module):\n",
    "    def __init__(self, input_size):\n",
    "        super(PricePredictionNN, self).__init__()\n",
    "        self.fc1 = nn.Linear(input_size, 64)\n",
    "        self.relu = nn.ReLU()\n",
    "        self.fc2 = nn.Linear(64, 32)\n",
    "        self.fc3 = nn.Linear(32, 1)\n",
    "    \n",
    "    def forward(self, x):\n",
    "        x = self.relu(self.fc1(x))\n",
    "        x = self.relu(self.fc2(x))\n",
    "        x = self.fc3(x)\n",
    "        return x\n",
    "\n",
    "# Initialize model and move to device\n",
    "input_size = X_train.shape[1]\n",
    "model = PricePredictionNN(input_size).to(device)\n",
    "\n",
    "# Loss and optimizer\n",
    "criterion = nn.MSELoss()\n",
    "optimizer = optim.Adam(model.parameters(), lr=0.001)\n",
    "\n",
    "# Training loop with progress bar\n",
    "epochs = 50\n",
    "\n",
    "for epoch in range(epochs):\n",
    "    epoch_loss = 0\n",
    "    progress_bar = tqdm(train_loader, desc=f\"Epoch {epoch+1}/{epochs}\", leave=False)\n",
    "\n",
    "    for batch_X, batch_y in progress_bar:\n",
    "        batch_X, batch_y = batch_X.to(device), batch_y.to(device)  # Move batch to GPU\n",
    "\n",
    "        optimizer.zero_grad()\n",
    "        outputs = model(batch_X)\n",
    "        loss = criterion(outputs, batch_y)\n",
    "        loss.backward()\n",
    "        optimizer.step()\n",
    "        \n",
    "        epoch_loss += loss.item()\n",
    "        progress_bar.set_postfix(loss=loss.item())\n",
    "\n",
    "    print(f\"Epoch [{epoch+1}/{epochs}] - Avg Loss: {epoch_loss/len(train_loader):.4f}\")\n",
    "\n",
    "# Evaluate on test set\n",
    "model.eval()\n",
    "with torch.no_grad():\n",
    "    y_pred = model(X_test_tensor)\n",
    "    test_loss = criterion(y_pred, y_test_tensor)\n",
    "    rmse = torch.sqrt(test_loss)\n",
    "\n",
    "print(f\"\\nTest Loss (MSE): {test_loss.item():.4f}\")\n",
    "print(f\"Test RMSE: {rmse.item():.4f}\")'''\n"
   ]
  },
  {
   "cell_type": "markdown",
   "metadata": {},
   "source": [
    "Predicting vals and saving them in csv files "
   ]
  },
  {
   "cell_type": "code",
   "execution_count": 117,
   "metadata": {},
   "outputs": [],
   "source": [
    "test_df = test_df.drop(columns = 'id', axis = 1)"
   ]
  },
  {
   "cell_type": "code",
   "execution_count": 118,
   "metadata": {},
   "outputs": [],
   "source": [
    "predictions = model2.predict(test_df)\n",
    "\n",
    "df = pd.read_csv(\"test.csv\")\n",
    "\n",
    "submission = pd.DataFrame({'id': df['id'],\n",
    "                           'Price': predictions})\n",
    "submission.to_csv('submission_2.csv', index = False)"
   ]
  },
  {
   "cell_type": "code",
   "execution_count": 67,
   "metadata": {},
   "outputs": [
    {
     "data": {
      "text/plain": [
       "\"test_df_tensor = torch.tensor(test_df.values, dtype=torch.float32).to(device)\\n\\n# Make predictions\\nmodel.eval()\\nwith torch.no_grad():\\n    predictions = model(test_df_tensor).cpu().numpy()  # Move to CPU & convert to NumPy\\n\\n# Create submission DataFrame\\nsubmission = pd.DataFrame({\\n    'id': test_df['id'],\\n    'Price': predictions.flatten()  # Flatten to avoid extra dimensions\\n})\\n\\n# Save to CSV\\nsubmission.to_csv('submission_1.csv', index=False)\""
      ]
     },
     "execution_count": 67,
     "metadata": {},
     "output_type": "execute_result"
    }
   ],
   "source": [
    "'''test_df_tensor = torch.tensor(test_df.values, dtype=torch.float32).to(device)\n",
    "\n",
    "# Make predictions\n",
    "model.eval()\n",
    "with torch.no_grad():\n",
    "    predictions = model(test_df_tensor).cpu().numpy()  # Move to CPU & convert to NumPy\n",
    "\n",
    "# Create submission DataFrame\n",
    "submission = pd.DataFrame({\n",
    "    'id': test_df['id'],\n",
    "    'Price': predictions.flatten()  # Flatten to avoid extra dimensions\n",
    "})\n",
    "\n",
    "# Save to CSV\n",
    "submission.to_csv('submission_1.csv', index=False)'''\n"
   ]
  }
 ],
 "metadata": {
  "kernelspec": {
   "display_name": ".venv",
   "language": "python",
   "name": "python3"
  },
  "language_info": {
   "codemirror_mode": {
    "name": "ipython",
    "version": 3
   },
   "file_extension": ".py",
   "mimetype": "text/x-python",
   "name": "python",
   "nbconvert_exporter": "python",
   "pygments_lexer": "ipython3",
   "version": "3.12.3"
  }
 },
 "nbformat": 4,
 "nbformat_minor": 2
}
